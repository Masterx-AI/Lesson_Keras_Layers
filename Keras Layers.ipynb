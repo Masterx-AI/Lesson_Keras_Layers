{
 "cells": [
  {
   "cell_type": "markdown",
   "id": "e0407c28",
   "metadata": {},
   "source": [
    "---"
   ]
  },
  {
   "cell_type": "markdown",
   "id": "03c111a8",
   "metadata": {},
   "source": [
    "# <center>★ AI / ML Lesson - Keras Layers ★"
   ]
  },
  {
   "cell_type": "markdown",
   "id": "068ad244",
   "metadata": {},
   "source": [
    "---"
   ]
  },
  {
   "cell_type": "markdown",
   "id": "e03b610e",
   "metadata": {},
   "source": [
    "<center><img src=\"layers.png\" style=\"width: 800px;\"/>"
   ]
  },
  {
   "cell_type": "markdown",
   "id": "79042b5e",
   "metadata": {},
   "source": [
    "---"
   ]
  },
  {
   "cell_type": "markdown",
   "id": "cc2cf202",
   "metadata": {},
   "source": [
    "### Description:\n",
    "\n",
    "Keras is one of the most popular Python libraries for Deep Learning. It is a library that provides you various tools to deal with neural network models. These tools enable you to visualize and understand your model.\n",
    "Keras is a simple and user-friendly library that focuses on the idea of Models. Let us learn more about Keras Models.\n",
    "\n",
    "Keras layers are the building blocks of the Keras library that can be stacked together just like legos for creating neural network models. This ease of creating neural networks is what makes Keras the preferred deep learning framework by many. There are different types of Keras layers available for different purposes while designing your neural network architecture. In this tutorial, these different types of Keras layers will be explained that should be helpful, especially for beginners for their deep learning projects.\n",
    "\n",
    "### Acknowledgement: \n",
    "google, pyimagesearch, coursera, udemy, machinelearningmastery\n",
    "\n",
    "### Objective:\n",
    "- Build Deep Neural Network by using various types of Keras models."
   ]
  },
  {
   "cell_type": "markdown",
   "id": "f0086135",
   "metadata": {},
   "source": [
    "---"
   ]
  },
  {
   "cell_type": "markdown",
   "id": "6e0fb004",
   "metadata": {},
   "source": [
    "# <center> Keras Layers:"
   ]
  },
  {
   "cell_type": "markdown",
   "id": "3f144ab3",
   "metadata": {},
   "source": [
    "**At a high-level Keras gives you two choices to create layers by using Keras Layers API and Keras Custom Layers. Some of the types of Keras Layers API are:**\n",
    "\n",
    "1. Dense Layer\n",
    "2. Flattened Layer\n",
    "3. Dropout Layer\n",
    "4. Reshape Layer\n",
    "5. Permute Layer\n",
    "6. RepeatVector Layer\n",
    "7. Lambda Layer\n",
    "8. Pooling Layer\n",
    "9. Locally Connected Layer"
   ]
  },
  {
   "cell_type": "markdown",
   "id": "f3afebe8",
   "metadata": {},
   "source": [
    "---"
   ]
  },
  {
   "cell_type": "markdown",
   "id": "1b6b196f",
   "metadata": {},
   "source": [
    "# <center>1. Dense Layer"
   ]
  },
  {
   "cell_type": "markdown",
   "id": "a506b760",
   "metadata": {},
   "source": [
    "Dense Layer is a widely used Keras layer for creating a deeply connected layer in the neural network where each of the neurons of the dense layers receives input from all neurons of the previous layer. At its core, it performs dot product of all the input values along with the weights for obtaining the output."
   ]
  },
  {
   "cell_type": "markdown",
   "id": "40b01426",
   "metadata": {},
   "source": [
    "Here is the syntax of flatten function:\n",
    "`keras.layers.Dense(units, activation=None, **kwargs)`"
   ]
  },
  {
   "cell_type": "code",
   "execution_count": 8,
   "id": "fa9e2bba",
   "metadata": {},
   "outputs": [
    {
     "name": "stdout",
     "output_type": "stream",
     "text": [
      "(None, 8)\n",
      "(None, 16)\n"
     ]
    }
   ],
   "source": [
    "# Code Example\n",
    "\n",
    "from keras.models import Sequential \n",
    "from keras.layers import Activation, Dense \n",
    "\n",
    "model = Sequential() \n",
    "layer_1 = Dense(16, input_shape = (8,)) \n",
    "model.add(layer_1) \n",
    "\n",
    "print(layer_1.input_shape)\n",
    "print(layer_1.output_shape)"
   ]
  },
  {
   "cell_type": "markdown",
   "id": "42be13a4",
   "metadata": {},
   "source": [
    "The dense layer’s output shape is altered by changing the number of neurons/units specified in the layer. Each and every layer has its own batch size as its first dimension."
   ]
  },
  {
   "cell_type": "markdown",
   "id": "f548e0f3",
   "metadata": {},
   "source": [
    "---"
   ]
  },
  {
   "cell_type": "markdown",
   "id": "0234fbd4",
   "metadata": {},
   "source": [
    "# <center>2. Flattened Layer"
   ]
  },
  {
   "cell_type": "markdown",
   "id": "44d0b03b",
   "metadata": {},
   "source": [
    "As its name suggests, Flatten Layers is used for flattening of the input. For example, if we have an input shape as (batch_size, 3,3), after applying the flatten layer, the output shape is changed to (batch_size,9). \n",
    "Flatten function has one argument as follows – data_format – An optional argument, it mainly helps in preserving weight ordering when data formats are switched.\n",
    "\n",
    "The Flatten() function has the following syntax:\n",
    "`keras.layers.Flatten(data_format = None)`"
   ]
  },
  {
   "cell_type": "code",
   "execution_count": 48,
   "id": "97684b9f",
   "metadata": {},
   "outputs": [
    {
     "name": "stdout",
     "output_type": "stream",
     "text": [
      "(None, 8, 16)\n",
      "(None, 128)\n"
     ]
    }
   ],
   "source": [
    "# Code Example\n",
    "\n",
    "from keras.models import Sequential \n",
    "from keras.layers import Activation, Dense, Flatten\n",
    "\n",
    "model = Sequential() \n",
    "layer_1 = Dense(16, input_shape = (8,8)) \n",
    "model.add(layer_1) \n",
    "layer_2 = Flatten()\n",
    "model.add(layer_2) \n",
    "\n",
    "print(layer_2.input_shape)\n",
    "print(layer_2.output_shape)"
   ]
  },
  {
   "cell_type": "markdown",
   "id": "2643ccb1",
   "metadata": {},
   "source": [
    "Here the second layer has a shape as (None, 8,16) and we are flattening it to get (None, 128)"
   ]
  },
  {
   "cell_type": "markdown",
   "id": "a7a0f9ca",
   "metadata": {},
   "source": [
    "---"
   ]
  },
  {
   "cell_type": "markdown",
   "id": "756f66e4",
   "metadata": {},
   "source": [
    "# <center> 3. Dropout Layer"
   ]
  },
  {
   "cell_type": "markdown",
   "id": "81ce6baf",
   "metadata": {},
   "source": [
    "The dropout layer is an important layer for reducing over-fitting in neural network models.\n",
    "\n",
    "Intuitively, the main purpose of dropout layer is to remove the noise that may be present in the input of neurons. This consequently prevents over-fitting of model.\n",
    "\n",
    "Dropout has three arguments and they are as follows-\n",
    "\n",
    "* rate − This parameter tells the layer how much of the input data has to be dropped. The range of the value is from 0 to 1.\n",
    "* noise_shape – This parameter will specify the dimension of shape for applying dropout layer.\n",
    "* seed − The seed parameter helps in providing random seed i.e. value to the layer."
   ]
  },
  {
   "cell_type": "code",
   "execution_count": 11,
   "id": "e92f0466",
   "metadata": {},
   "outputs": [
    {
     "data": {
      "text/plain": [
       "<keras.layers.core.dropout.Dropout at 0x292082ed9d0>"
      ]
     },
     "execution_count": 11,
     "metadata": {},
     "output_type": "execute_result"
    }
   ],
   "source": [
    "import keras\n",
    "\n",
    "keras.layers.Dropout(0.5, noise_shape = None, seed = None)"
   ]
  },
  {
   "cell_type": "markdown",
   "id": "aa6157c0",
   "metadata": {},
   "source": [
    "Here in the example, “0.5” specifies the amount of input to be removed from the available input data."
   ]
  },
  {
   "cell_type": "markdown",
   "id": "59f1d68e",
   "metadata": {},
   "source": [
    "---"
   ]
  },
  {
   "cell_type": "markdown",
   "id": "b244699f",
   "metadata": {},
   "source": [
    "# <center>4. Reshape Layer"
   ]
  },
  {
   "cell_type": "markdown",
   "id": "8ded6f3e",
   "metadata": {},
   "source": [
    "This layer has the responsibility of changing the shape of the input.\n",
    "\n",
    "For example – If a reshape layer has an argument (4,5) and it is applied to a layer having input shape as (batch_size,5,4), then the output shape of the layer changes to (batch_size,4,5).\n",
    "\n",
    "The Reshape() function has the following syntax: `keras.layers.Reshape(target_shape)`"
   ]
  },
  {
   "cell_type": "code",
   "execution_count": 14,
   "id": "8c7be1be",
   "metadata": {},
   "outputs": [
    {
     "name": "stdout",
     "output_type": "stream",
     "text": [
      "(None, 8, 16)\n",
      "(None, 16, 8)\n"
     ]
    }
   ],
   "source": [
    "# Code Example\n",
    "\n",
    "from keras.models import Sequential \n",
    "from keras.layers import Activation, Dense, Flatten, Reshape\n",
    "\n",
    "model = Sequential() \n",
    "layer_1 = Dense(16, input_shape = (8,8)) \n",
    "model.add(layer_1) \n",
    "layer_2 = Reshape((16, 8)) \n",
    "model.add(layer_2)  \n",
    "\n",
    "print(layer_2.input_shape)\n",
    "print(layer_2.output_shape)"
   ]
  },
  {
   "cell_type": "markdown",
   "id": "c60c41d5",
   "metadata": {},
   "source": [
    "As we can see that the input shape and output shape of the layers have been changed, this is because reshape layer was used, thus resulting in an output different from its input."
   ]
  },
  {
   "cell_type": "markdown",
   "id": "463c2327",
   "metadata": {},
   "source": [
    "---"
   ]
  },
  {
   "cell_type": "markdown",
   "id": "3f139828",
   "metadata": {},
   "source": [
    "# <center>5. Permute Layer"
   ]
  },
  {
   "cell_type": "markdown",
   "id": "d0410516",
   "metadata": {},
   "source": [
    "Permute layer uses a pattern to alter the shape of the input.\n",
    "Permute function takes only one argument as the dims or dimensions parameter is used for taking the dimension of the pattern.\n",
    "\n",
    "The Permute() function has the following syntax:\n",
    "`keras.layers.Permute(dims)`"
   ]
  },
  {
   "cell_type": "code",
   "execution_count": 23,
   "id": "c6305382",
   "metadata": {},
   "outputs": [
    {
     "name": "stdout",
     "output_type": "stream",
     "text": [
      "(None, 8, 16)\n",
      "(None, 16, 8)\n"
     ]
    }
   ],
   "source": [
    "# Code Example\n",
    "\n",
    "from keras.models import Sequential \n",
    "from keras.layers import Activation, Dense, Flatten, Reshape, Permute\n",
    "\n",
    "model = Sequential() \n",
    "layer_1 = Dense(16, input_shape = (8,8)) \n",
    "model.add(layer_1) \n",
    "layer_2 = Permute((2, 1)) \n",
    "model.add(layer_2)  \n",
    "\n",
    "print(layer_2.input_shape)\n",
    "print(layer_2.output_shape)"
   ]
  },
  {
   "cell_type": "markdown",
   "id": "15025c26",
   "metadata": {},
   "source": [
    "Here (2, 1) is set as pattern."
   ]
  },
  {
   "cell_type": "markdown",
   "id": "e021d7aa",
   "metadata": {},
   "source": [
    "---"
   ]
  },
  {
   "cell_type": "markdown",
   "id": "140c00c4",
   "metadata": {},
   "source": [
    "# <center>6. RepeatVector Layer"
   ]
  },
  {
   "cell_type": "markdown",
   "id": "aa54ad68",
   "metadata": {},
   "source": [
    "As its name suggests, RepeatVector repeats the input for a fixed number of times.\n",
    "\n",
    "For example – RepeatVector with argument 9 can be applied to a layer that has an input shape as (batch_size,18), then the output shape of the layer is changed to (batch_size,9,18).\n",
    "\n",
    "The RepeatVector() function has the following syntax:\n",
    "`keras.layers.RepeatVector(n)`"
   ]
  },
  {
   "cell_type": "code",
   "execution_count": 26,
   "id": "a9e5e5e9",
   "metadata": {},
   "outputs": [
    {
     "name": "stdout",
     "output_type": "stream",
     "text": [
      "(None, 16)\n",
      "(None, 16, 16)\n"
     ]
    }
   ],
   "source": [
    "# Code Example\n",
    "\n",
    "from keras.models import Sequential \n",
    "from keras.layers import Activation, Dense, Flatten, Reshape, Permute, RepeatVector\n",
    "\n",
    "model = Sequential() \n",
    "layer_1 = Dense(16, input_shape = (8,)) \n",
    "model.add(layer_1) \n",
    "layer_2 = RepeatVector(16) \n",
    "model.add(layer_2)  \n",
    "\n",
    "print(layer_2.input_shape)\n",
    "print(layer_2.output_shape)"
   ]
  },
  {
   "cell_type": "markdown",
   "id": "178b83df",
   "metadata": {},
   "source": [
    "As we can see in the output layer shape, we are getting the input layer repeated."
   ]
  },
  {
   "cell_type": "markdown",
   "id": "29672f2f",
   "metadata": {},
   "source": [
    "---"
   ]
  },
  {
   "cell_type": "markdown",
   "id": "7b5b633d",
   "metadata": {},
   "source": [
    "# <center>7. Lambda Layer"
   ]
  },
  {
   "cell_type": "markdown",
   "id": "ec708f26",
   "metadata": {},
   "source": [
    "Lambda Layer is used for transforming the input data with the help of an expression or function.\n",
    "\n",
    "Lambda layer function has four arguments, they are mentioned below –\n",
    "\n",
    "function represents the lambda function.\n",
    "output_shape represents the shape of the transformed input.\n",
    "mask represents the mask to be applied, if any.\n",
    "arguments represents the optional argument for the lamda function as dictionary."
   ]
  },
  {
   "cell_type": "code",
   "execution_count": 44,
   "id": "67336ff2",
   "metadata": {},
   "outputs": [
    {
     "name": "stdout",
     "output_type": "stream",
     "text": [
      "(None, 16, 8)\n",
      "(None, 16, 8)\n"
     ]
    }
   ],
   "source": [
    "# Code Example\n",
    "\n",
    "from keras.models import Sequential \n",
    "from keras.layers import Activation, Dense, Flatten, Reshape, Permute, RepeatVector, Lambda\n",
    "\n",
    "model = Sequential() \n",
    "layer_1 = Dense(8, input_shape = (16,4)) \n",
    "model.add(layer_1) \n",
    "layer_2 = Lambda(lambda x: 2*x) \n",
    "model.add(layer_2)  \n",
    "\n",
    "print(layer_2.input_shape)\n",
    "print(layer_2.output_shape)"
   ]
  },
  {
   "cell_type": "markdown",
   "id": "2271cf26",
   "metadata": {},
   "source": [
    "---"
   ]
  },
  {
   "cell_type": "markdown",
   "id": "3c156508",
   "metadata": {},
   "source": [
    "# <center> 8. Pooling Layer"
   ]
  },
  {
   "cell_type": "markdown",
   "id": "21c7c362",
   "metadata": {},
   "source": [
    "The pooling layer is used for applying max pooling operations on temporal data.\n",
    "The syntax of the pooling layer function is shown below –\n",
    "`keras.layers.MaxPooling1D (pool_size = 2, strides = None, padding = 'valid', data_format = 'channels_last')`\n",
    "\n",
    "The pool_size refers the max pooling windows.\n",
    "strides refer the factors for downscale."
   ]
  },
  {
   "cell_type": "markdown",
   "id": "9e235762",
   "metadata": {},
   "source": [
    "---"
   ]
  },
  {
   "cell_type": "code",
   "execution_count": 32,
   "id": "b2954052",
   "metadata": {},
   "outputs": [
    {
     "name": "stdout",
     "output_type": "stream",
     "text": [
      "(None, 32, 32, 8)\n",
      "(None, 16, 16, 8)\n"
     ]
    }
   ],
   "source": [
    "# Code Example\n",
    "\n",
    "from keras.models import Sequential \n",
    "from keras.layers import Activation, Dense, Flatten, Reshape, Permute, RepeatVector, Lambda, MaxPool2D\n",
    "\n",
    "model = Sequential() \n",
    "layer_1 = Dense(8, input_shape = (32,32,3)) \n",
    "model.add(layer_1) \n",
    "layer_2 = MaxPool2D(pool_size=2) \n",
    "model.add(layer_2)  \n",
    "\n",
    "print(layer_2.input_shape)\n",
    "print(layer_2.output_shape)"
   ]
  },
  {
   "cell_type": "markdown",
   "id": "11c2a573",
   "metadata": {},
   "source": [
    "---"
   ]
  },
  {
   "cell_type": "markdown",
   "id": "0172935f",
   "metadata": {},
   "source": [
    "# <center>9. Locally Connected Layer"
   ]
  },
  {
   "cell_type": "markdown",
   "id": "da546a99",
   "metadata": {},
   "source": [
    "Locally Connected Layers possess similar functionality to Conv1D layer, the difference arises from the usage of weights. In Conv1D layers, weights are shared whereas in case of locally connected layer weights aren’t shared.\n",
    "\n",
    "The following cell shows the syntax of locally connected layer:\n",
    "`keras.layers.LocallyConnected1D(n)`"
   ]
  },
  {
   "cell_type": "code",
   "execution_count": 38,
   "id": "208eea00",
   "metadata": {},
   "outputs": [
    {
     "name": "stdout",
     "output_type": "stream",
     "text": [
      "(None, 32, 8)\n",
      "(None, 30, 16)\n"
     ]
    }
   ],
   "source": [
    "# Code Example\n",
    "\n",
    "from keras.models import Sequential \n",
    "from keras.layers import Activation, Dense, Flatten, Reshape, Permute, RepeatVector, Lambda, MaxPool2D, LocallyConnected1D\n",
    "\n",
    "model = Sequential() \n",
    "layer_1 = Dense(8, input_shape = (32,32)) \n",
    "model.add(layer_1) \n",
    "layer_2 = LocallyConnected1D(16, 3, input_shape = (10, 8)) \n",
    "model.add(layer_2)  \n",
    "\n",
    "print(layer_2.input_shape)\n",
    "print(layer_2.output_shape)"
   ]
  },
  {
   "cell_type": "markdown",
   "id": "375e652f",
   "metadata": {},
   "source": [
    "---"
   ]
  },
  {
   "cell_type": "markdown",
   "id": "6fdf1f8f",
   "metadata": {},
   "source": [
    "# <center> Keras Custom Layer"
   ]
  },
  {
   "cell_type": "markdown",
   "id": "6a7450f5",
   "metadata": {},
   "source": [
    "After learning about how to build a neural network model with Keras API, we will now look at how to create a model using Keras custom layers. For this, we will import the Layer function and then define our custom layer in the class MyCustomLayer"
   ]
  },
  {
   "cell_type": "code",
   "execution_count": 46,
   "id": "97da4f00",
   "metadata": {},
   "outputs": [
    {
     "name": "stdout",
     "output_type": "stream",
     "text": [
      "Model: \"sequential_35\"\n",
      "_________________________________________________________________\n",
      " Layer (type)                Output Shape              Param #   \n",
      "=================================================================\n",
      " my_custom_layer_1 (MyCustom  (None, 32)               512       \n",
      " Layer)                                                          \n",
      "                                                                 \n",
      " dense_36 (Dense)            (None, 8)                 264       \n",
      "                                                                 \n",
      "=================================================================\n",
      "Total params: 776\n",
      "Trainable params: 776\n",
      "Non-trainable params: 0\n",
      "_________________________________________________________________\n"
     ]
    }
   ],
   "source": [
    "from keras import backend as K \n",
    "from keras.layers import Layer\n",
    "\n",
    "class MyCustomLayer(Layer): \n",
    "    def __init__(self, output_dim, **kwargs): \n",
    "        self.output_dim = output_dim \n",
    "        super(MyCustomLayer, self).__init__(**kwargs) \n",
    "        \n",
    "    def build(self, input_shape): \n",
    "        self.kernel = self.add_weight(name = 'kernel', \n",
    "                                      shape = (input_shape[1], self.output_dim), \n",
    "                                      initializer = 'normal', trainable = True) \n",
    "        super(MyCustomLayer, self).build(input_shape)\n",
    "        \n",
    "    def call(self, input_data): \n",
    "        return K.dot(input_data, self.kernel) \n",
    "\n",
    "    def compute_output_shape(self, input_shape): \n",
    "        return (input_shape[0], self.output_dim)\n",
    "\n",
    "\n",
    "from keras.models import Sequential \n",
    "from keras.layers import Dense \n",
    "\n",
    "model = Sequential() \n",
    "model.add(MyCustomLayer(32, input_shape = (16,))) \n",
    "model.add(Dense(8, activation = 'softmax')) \n",
    "model.summary()"
   ]
  },
  {
   "cell_type": "markdown",
   "id": "ff9cc666",
   "metadata": {},
   "source": [
    "---"
   ]
  }
 ],
 "metadata": {
  "kernelspec": {
   "display_name": "Python 3 (ipykernel)",
   "language": "python",
   "name": "python3"
  },
  "language_info": {
   "codemirror_mode": {
    "name": "ipython",
    "version": 3
   },
   "file_extension": ".py",
   "mimetype": "text/x-python",
   "name": "python",
   "nbconvert_exporter": "python",
   "pygments_lexer": "ipython3",
   "version": "3.9.7"
  }
 },
 "nbformat": 4,
 "nbformat_minor": 5
}
